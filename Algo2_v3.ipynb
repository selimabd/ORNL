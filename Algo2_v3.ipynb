{
 "cells": [
  {
   "cell_type": "code",
   "execution_count": 9,
   "metadata": {
    "collapsed": false
   },
   "outputs": [],
   "source": [
    "import numpy as np\n",
    "from scipy.interpolate import interp1d\n",
    "import sys\n",
    "import matplotlib.pyplot as plt\n",
    "from matplotlib.widgets import Slider\n",
    "from matplotlib.patches import Rectangle"
   ]
  },
  {
   "cell_type": "code",
   "execution_count": 10,
   "metadata": {
    "collapsed": true
   },
   "outputs": [],
   "source": [
    "%gui qt"
   ]
  },
  {
   "cell_type": "code",
   "execution_count": 11,
   "metadata": {
    "collapsed": true
   },
   "outputs": [],
   "source": [
    "%matplotlib inline"
   ]
  },
  {
   "cell_type": "code",
   "execution_count": 12,
   "metadata": {
    "collapsed": true
   },
   "outputs": [],
   "source": [
    "from Algo2.generate_smooth_curve import generate_smooth_curve\n",
    "from utilities.export_files import excel_format"
   ]
  },
  {
   "cell_type": "code",
   "execution_count": 15,
   "metadata": {
    "collapsed": true
   },
   "outputs": [],
   "source": [
    "inputFile = 'testin.txt'\n",
    "smoothedOutput = \"output.xls\"\n",
    "thresholdOutput = 0.75\n",
    "window = 0.0375"
   ]
  },
  {
   "cell_type": "markdown",
   "metadata": {},
   "source": [
    "### load data"
   ]
  },
  {
   "cell_type": "code",
   "execution_count": 16,
   "metadata": {
    "collapsed": false
   },
   "outputs": [],
   "source": [
    "#isolate x and y data\n",
    "data = np.loadtxt(inputFile)\n",
    "x = data[:,0]\n",
    "y = data[:,1]"
   ]
  },
  {
   "cell_type": "code",
   "execution_count": 17,
   "metadata": {
    "collapsed": false
   },
   "outputs": [
    {
     "ename": "NameError",
     "evalue": "name 'np' is not defined",
     "output_type": "error",
     "traceback": [
      "\u001b[0;31m---------------------------------------------------------------------------\u001b[0m",
      "\u001b[0;31mNameError\u001b[0m                                 Traceback (most recent call last)",
      "\u001b[0;32m<ipython-input-17-820ed97a3876>\u001b[0m in \u001b[0;36m<module>\u001b[0;34m()\u001b[0m\n\u001b[0;32m----> 1\u001b[0;31m \u001b[0mx2y2\u001b[0m \u001b[0;34m=\u001b[0m \u001b[0mgenerate_smooth_curve\u001b[0m\u001b[0;34m(\u001b[0m\u001b[0mx\u001b[0m\u001b[0;34m,\u001b[0m \u001b[0my\u001b[0m\u001b[0;34m)\u001b[0m\u001b[0;34m\u001b[0m\u001b[0m\n\u001b[0m\u001b[1;32m      2\u001b[0m \u001b[0mx2\u001b[0m \u001b[0;34m=\u001b[0m \u001b[0mx2y2\u001b[0m\u001b[0;34m[\u001b[0m\u001b[0;34m'x2'\u001b[0m\u001b[0;34m]\u001b[0m\u001b[0;34m\u001b[0m\u001b[0m\n\u001b[1;32m      3\u001b[0m \u001b[0my2\u001b[0m \u001b[0;34m=\u001b[0m \u001b[0mx2y2\u001b[0m\u001b[0;34m[\u001b[0m\u001b[0;34m'y2'\u001b[0m\u001b[0;34m]\u001b[0m\u001b[0;34m\u001b[0m\u001b[0m\n\u001b[1;32m      4\u001b[0m \u001b[0;34m\u001b[0m\u001b[0m\n\u001b[1;32m      5\u001b[0m \u001b[0mexcel_format\u001b[0m\u001b[0;34m(\u001b[0m\u001b[0mx2\u001b[0m\u001b[0;34m,\u001b[0m \u001b[0my2\u001b[0m\u001b[0;34m,\u001b[0m \u001b[0msmoothedOutput\u001b[0m\u001b[0;34m)\u001b[0m\u001b[0;34m\u001b[0m\u001b[0m\n",
      "\u001b[0;32m/Users/j35/git/ORNL/Algo2/generate_smooth_curve.py\u001b[0m in \u001b[0;36mgenerate_smooth_curve\u001b[0;34m(x, y)\u001b[0m\n\u001b[1;32m      3\u001b[0m \u001b[0;32mdef\u001b[0m \u001b[0mgenerate_smooth_curve\u001b[0m\u001b[0;34m(\u001b[0m\u001b[0mx\u001b[0m\u001b[0;34m,\u001b[0m \u001b[0my\u001b[0m\u001b[0;34m)\u001b[0m\u001b[0;34m:\u001b[0m\u001b[0;34m\u001b[0m\u001b[0m\n\u001b[1;32m      4\u001b[0m     \u001b[0mx2\u001b[0m \u001b[0;34m=\u001b[0m \u001b[0mx\u001b[0m\u001b[0;34m\u001b[0m\u001b[0m\n\u001b[0;32m----> 5\u001b[0;31m     \u001b[0my2\u001b[0m \u001b[0;34m=\u001b[0m \u001b[0mnp\u001b[0m\u001b[0;34m.\u001b[0m\u001b[0mzeros\u001b[0m\u001b[0;34m(\u001b[0m\u001b[0mx2\u001b[0m\u001b[0;34m.\u001b[0m\u001b[0msize\u001b[0m\u001b[0;34m)\u001b[0m\u001b[0;34m\u001b[0m\u001b[0m\n\u001b[0m\u001b[1;32m      6\u001b[0m     \u001b[0mtolerance\u001b[0m \u001b[0;34m=\u001b[0m \u001b[0mnp\u001b[0m\u001b[0;34m.\u001b[0m\u001b[0mmean\u001b[0m\u001b[0;34m(\u001b[0m\u001b[0mnp\u001b[0m\u001b[0;34m.\u001b[0m\u001b[0mdiff\u001b[0m\u001b[0;34m(\u001b[0m\u001b[0mx2\u001b[0m\u001b[0;34m)\u001b[0m\u001b[0;34m)\u001b[0m \u001b[0;34m/\u001b[0m \u001b[0;36m100\u001b[0m\u001b[0;34m\u001b[0m\u001b[0m\n\u001b[1;32m      7\u001b[0m     \u001b[0;32mfor\u001b[0m \u001b[0mi\u001b[0m \u001b[0;32min\u001b[0m \u001b[0mrange\u001b[0m\u001b[0;34m(\u001b[0m\u001b[0;36m0\u001b[0m\u001b[0;34m,\u001b[0m \u001b[0my2\u001b[0m\u001b[0;34m.\u001b[0m\u001b[0msize\u001b[0m\u001b[0;34m)\u001b[0m\u001b[0;34m:\u001b[0m\u001b[0;34m\u001b[0m\u001b[0m\n",
      "\u001b[0;31mNameError\u001b[0m: name 'np' is not defined"
     ]
    }
   ],
   "source": [
    "x2y2 = generate_smooth_curve(x, y)\n",
    "x2 = x2y2['x2']\n",
    "y2 = x2y2['y2']\n",
    "\n",
    "excel_format(x2, y2, smoothedOutput)"
   ]
  },
  {
   "cell_type": "code",
   "execution_count": 3,
   "metadata": {
    "collapsed": false
   },
   "outputs": [
    {
     "name": "stdout",
     "output_type": "stream",
     "text": [
      "Input file e.g- testin.txt : testin.txt\n",
      "Smoothed Curve Output file e.g- output.xls : output.xls\n",
      "Threshold Output file e.g- 0.75 : 0.75\n",
      "Window size: e.g- 0.075 : 0.075\n",
      "Maximal points exceeding threshold 0.0025: [ 3.26267473  3.83166506]\n"
     ]
    }
   ],
   "source": [
    "# generate cubic spline interpolation and plot\n",
    "poly = interp1d(x2, y2, kind='cubic')\n",
    "xi = np.linspace(x2[0], x2[x2.size - 1], num=(x2[x2.size - 1] - x2[0])/.001, endpoint=True)\n",
    "\n",
    "# calculate diff between input and curve\n",
    "globmin = np.where(x == x2[0])[0][0]\n",
    "globmax = np.where(x == x2[x2.size - 1])[0][0]\n",
    "ydiff = y[globmin:globmax + 1] - poly(x2)\n",
    "\n",
    "# set initial threshold (adjustable in graph by user)\n",
    "threshold = .0025\n",
    "\n",
    "# identify max points of regions exceeding threshold\n",
    "def calcjumps(t):\n",
    "\tjumps = np.extract(ydiff > t, x2)\n",
    "\tmaxjumps = np.array([])\n",
    "\ti = 0\n",
    "\twhile i < jumps.size:\n",
    "\t\tarea = 1\n",
    "\t\tmax = ydiff[np.nonzero(x2 == jumps[i])[0][0]]\n",
    "\t\tmaxi = i\n",
    "\t\twhile i + area < jumps.size - 1 and jumps[i + area] == x[np.nonzero(x == jumps[i])[0][0] + area]:\n",
    "\t\t\tif ydiff[np.nonzero(x2 == jumps[i + area])[0][0]] > max:\n",
    "\t\t\t\tmax = ydiff[np.nonzero(x2 == jumps[i + area])[0][0]]\n",
    "\t\t\t\tmaxi = i + area\n",
    "\t\t\tarea += 1\n",
    "\t\tmaxjumps = np.append(maxjumps, jumps[maxi])\n",
    "\t\ti += area + 1\n",
    "\tprint('Maximal points exceeding threshold {}: {}'.format(round(t, 5), maxjumps))\n",
    "\twith open(thresholdOutput, \"a\") as file:\n",
    "\t\tfile.write('Maximal points exceeding threshold {}: {}\\n'.format(round(t, 5), maxjumps))\n",
    "\treturn maxjumps\n",
    "\n",
    "# plot with threshold values marked\n",
    "fig, ax = plt.subplots(2)\n",
    "ori, = ax[1].plot(x, y, 'o-', color='g') # plot original points\n",
    "cs, = ax[1].plot(xi, poly(xi), color='c') # plot cubic spline\n",
    "ax[1].plot(x2, y2, 'o', color = 'c') # plot smoothed curve\n",
    "plt.xlabel(\"Wavelength (Angs)\")\n",
    "plt.ylabel(\"(Raw - OB) / OB\")\n",
    "plt.title(\"Neutron Imaging Graph\")\n",
    "ws = Rectangle((0, 0), 1, 1, fc=\"w\", fill=False, edgecolor='none', linewidth=0)\n",
    "plt.legend([ws, ori, cs], (\"window size: \" + str(window * 2), \"original data\", \"cubic spline\"), loc='best')\n",
    "maxjumps = calcjumps(threshold)\n",
    "for i in range(0, maxjumps.size): # mark x-values of points exceeding threshold\n",
    "\tax[1].axvline(x=maxjumps[i], color='r')\n",
    "plt.subplots_adjust(bottom = 0.2)\n",
    "ax[0].set_position([0.12, 0.05, 0.70, 0.03])\n",
    "ax[1].set_position([0.12, 0.2, 0.70, 0.70])\n",
    "sthresh = Slider(ax[0], 'Threshold', 0.000, 0.005, valinit = threshold, valfmt='%1.5f')\n",
    "\n",
    "# update x-values when threshold slider changes\n",
    "def update(val):\n",
    "\tthreshold = sthresh.val\n",
    "\tmaxjumps = calcjumps(threshold)\n",
    "\tfig.canvas.draw_idle()\n",
    "\twhile len(ax[1].lines) > 3:\n",
    "\t\tax[1].lines[-1].remove()\n",
    "\tfor i in range(0, maxjumps.size):\n",
    "\t\tax[1].axvline(x=maxjumps[i], color='r')\n",
    "sthresh.on_changed(update)\n",
    "\n",
    "plt.show()"
   ]
  },
  {
   "cell_type": "code",
   "execution_count": null,
   "metadata": {
    "collapsed": true
   },
   "outputs": [],
   "source": []
  }
 ],
 "metadata": {
  "kernelspec": {
   "display_name": "Python 3",
   "language": "python",
   "name": "python3"
  },
  "language_info": {
   "codemirror_mode": {
    "name": "ipython",
    "version": 3
   },
   "file_extension": ".py",
   "mimetype": "text/x-python",
   "name": "python",
   "nbconvert_exporter": "python",
   "pygments_lexer": "ipython3",
   "version": "3.5.2"
  }
 },
 "nbformat": 4,
 "nbformat_minor": 0
}
