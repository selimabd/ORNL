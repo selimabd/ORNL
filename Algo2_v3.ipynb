{
 "cells": [
  {
   "cell_type": "code",
   "execution_count": 1,
   "metadata": {
    "collapsed": false
   },
   "outputs": [],
   "source": [
    "import numpy as np\n",
    "from scipy.interpolate import interp1d\n",
    "import sys\n",
    "import matplotlib.pyplot as plt\n",
    "from matplotlib.widgets import Slider\n",
    "from matplotlib.patches import Rectangle"
   ]
  },
  {
   "cell_type": "code",
   "execution_count": 2,
   "metadata": {
    "collapsed": true
   },
   "outputs": [],
   "source": [
    "%gui qt"
   ]
  },
  {
   "cell_type": "code",
   "execution_count": 3,
   "metadata": {
    "collapsed": true
   },
   "outputs": [],
   "source": [
    "%matplotlib inline"
   ]
  },
  {
   "cell_type": "code",
   "execution_count": 4,
   "metadata": {
    "collapsed": true
   },
   "outputs": [],
   "source": [
    "from Algo2.generate_smooth_curve import generate_smooth_curve\n",
    "from Algo2.diff_algorithm import calculate_diff_between_input_and_curve, calculate_jumps\n",
    "from utilities.export_files import excel_format"
   ]
  },
  {
   "cell_type": "code",
   "execution_count": 8,
   "metadata": {
    "collapsed": true
   },
   "outputs": [],
   "source": [
    "inputFile = 'testin.txt'\n",
    "smoothedOutput = \"output.xls\"\n",
    "thresholdOutput = 0.75\n",
    "window = 0.0375\n",
    "threshold = 0.0025 #initial threshold guess"
   ]
  },
  {
   "cell_type": "markdown",
   "metadata": {},
   "source": [
    "### load data"
   ]
  },
  {
   "cell_type": "code",
   "execution_count": 6,
   "metadata": {
    "collapsed": false
   },
   "outputs": [],
   "source": [
    "#isolate x and y data\n",
    "data = np.loadtxt(inputFile)\n",
    "x = data[:,0]\n",
    "y = data[:,1]"
   ]
  },
  {
   "cell_type": "code",
   "execution_count": 7,
   "metadata": {
    "collapsed": false
   },
   "outputs": [],
   "source": [
    "x2y2 = generate_smooth_curve(x, y, window)\n",
    "x2 = x2y2['x2']\n",
    "y2 = x2y2['y2']\n",
    "\n",
    "excel_format(x2, y2, smoothedOutput)"
   ]
  },
  {
   "cell_type": "code",
   "execution_count": null,
   "metadata": {
    "collapsed": true
   },
   "outputs": [],
   "source": [
    "# generate cubic spline interpolation and plot\n",
    "poly = interp1d(x2, y2, kind='cubic')\n",
    "xi = np.linspace(x2[0], x2[x2.size - 1], num=(x2[x2.size - 1] - x2[0])/.001, endpoint=True)\n",
    "\n",
    "# calculate diff between input and curve\n",
    "ydiff = calculate_diff_between_input_and_curve(x2)"
   ]
  },
  {
   "cell_type": "code",
   "execution_count": null,
   "metadata": {
    "collapsed": false
   },
   "outputs": [],
   "source": [
    "# plot with threshold values marked\n",
    "fig, ax = plt.subplots(2)\n",
    "ori, = ax[1].plot(x, y, 'o-', color='g') # plot original points\n",
    "cs, = ax[1].plot(xi, poly(xi), color='c') # plot cubic spline\n",
    "ax[1].plot(x2, y2, 'o', color = 'c') # plot smoothed curve\n",
    "plt.xlabel(\"Wavelength (Angs)\")\n",
    "plt.ylabel(\"(Raw - OB) / OB\")\n",
    "plt.title(\"Neutron Imaging Graph\")\n",
    "ws = Rectangle((0, 0), 1, 1, fc=\"w\", fill=False, edgecolor='none', linewidth=0)\n",
    "plt.legend([ws, ori, cs], (\"window size: \" + str(window * 2), \"original data\", \"cubic spline\"), loc='best')\n",
    "maxjumps = calcjumps(threshold)\n",
    "for i in range(0, maxjumps.size): # mark x-values of points exceeding threshold\n",
    "    ax[1].axvline(x=maxjumps[i], color='r')\n",
    "plt.subplots_adjust(bottom = 0.2)\n",
    "ax[0].set_position([0.12, 0.05, 0.70, 0.03])\n",
    "ax[1].set_position([0.12, 0.2, 0.70, 0.70])\n",
    "sthresh = Slider(ax[0], 'Threshold', 0.000, 0.005, valinit = threshold, valfmt='%1.5f')\n",
    "\n",
    "# update x-values when threshold slider changes\n",
    "def update(val):\n",
    "\tthreshold = sthresh.val\n",
    "\tmaxjumps = calculate_jumps(threshold, ydiff, x2)\n",
    "\tfig.canvas.draw_idle()\n",
    "\twhile len(ax[1].lines) > 3:\n",
    "\t\tax[1].lines[-1].remove()\n",
    "\tfor i in range(0, maxjumps.size):\n",
    "\t\tax[1].axvline(x=maxjumps[i], color='r')\n",
    "sthresh.on_changed(update)\n",
    "\n",
    "plt.show()"
   ]
  },
  {
   "cell_type": "code",
   "execution_count": null,
   "metadata": {
    "collapsed": true
   },
   "outputs": [],
   "source": []
  }
 ],
 "metadata": {
  "kernelspec": {
   "display_name": "Python 3",
   "language": "python",
   "name": "python3"
  },
  "language_info": {
   "codemirror_mode": {
    "name": "ipython",
    "version": 3
   },
   "file_extension": ".py",
   "mimetype": "text/x-python",
   "name": "python",
   "nbconvert_exporter": "python",
   "pygments_lexer": "ipython3",
   "version": "3.5.1"
  }
 },
 "nbformat": 4,
 "nbformat_minor": 0
}
